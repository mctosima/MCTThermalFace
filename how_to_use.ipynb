{
 "cells": [
  {
   "cell_type": "code",
   "execution_count": null,
   "metadata": {},
   "outputs": [],
   "source": [
    "# Import\n",
    "import MCTThermalFace\n",
    "from PIL import Image\n",
    "import cv2\n",
    "# import matplotlib.pyplot as plt\n",
    "# import matplotlib.patches as patches"
   ]
  },
  {
   "cell_type": "code",
   "execution_count": null,
   "metadata": {},
   "outputs": [],
   "source": [
    "# load model\n",
    "detector = ThermalFace.Detector('thermal_face_detection.pt')"
   ]
  },
  {
   "cell_type": "code",
   "execution_count": null,
   "metadata": {},
   "outputs": [],
   "source": [
    "# load the image\n",
    "img = Image.open(\"/mnt/sdb1/Developers-EXT/ThermalFaceDetection/ThermalFace.v2i.coco/test/ades2_png.rf.950915ae3a34e795c80f3d7854fa688a.jpg\")\n",
    "# img = cv2.imread(\"/mnt/sdb1/Developers-EXT/ThermalFaceDetection/ThermalFace.v2i.coco/test/ades2_png.rf.950915ae3a34e795c80f3d7854fa688a.jpg\")\n",
    "bbox = detector.detect(img)"
   ]
  },
  {
   "cell_type": "code",
   "execution_count": null,
   "metadata": {},
   "outputs": [],
   "source": [
    "print(f\"Bounding Box: {bbox} | Type: {type(bbox)}\")\n",
    "fig, ax = plt.subplots()\n",
    "ax.imshow(img)\n",
    "rect = patches.Rectangle((bbox[0], bbox[1]), bbox[2]-bbox[0], bbox[3]-bbox[1], linewidth=1, edgecolor='r', facecolor='none')\n",
    "ax.add_patch(rect)\n",
    "plt.axis('off')\n",
    "plt.show()"
   ]
  }
 ],
 "metadata": {
  "kernelspec": {
   "display_name": "py310_pytorch3",
   "language": "python",
   "name": "python3"
  },
  "language_info": {
   "codemirror_mode": {
    "name": "ipython",
    "version": 3
   },
   "file_extension": ".py",
   "mimetype": "text/x-python",
   "name": "python",
   "nbconvert_exporter": "python",
   "pygments_lexer": "ipython3",
   "version": "3.10.10"
  },
  "orig_nbformat": 4
 },
 "nbformat": 4,
 "nbformat_minor": 2
}
